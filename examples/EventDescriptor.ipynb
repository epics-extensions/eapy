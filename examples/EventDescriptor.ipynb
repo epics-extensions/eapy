{
 "cells": [
  {
   "cell_type": "markdown",
   "metadata": {},
   "source": [
    "# Query of the Event Descriptor Collection"
   ]
  },
  {
   "cell_type": "markdown",
   "metadata": {},
   "source": [
    "This example illustartes the V4 interface for accessing the event_descriptor collection of the MongoDB-based Meta Data Store of the NSLS-II experimental facility"
   ]
  },
  {
   "cell_type": "markdown",
   "metadata": {},
   "source": [
    "First, we import the necessary modules from the python standard library, numpy and eapy."
   ]
  },
  {
   "cell_type": "code",
   "execution_count": 1,
   "metadata": {
    "collapsed": false
   },
   "outputs": [],
   "source": [
    "import sys\n",
    "import pdb\n",
    "import time\n",
    "from datetime import timedelta, datetime, tzinfo\n",
    "\n",
    "import numpy as np\n",
    "\n",
    "#import the eapy module\n",
    "sys.path.append('/home/malitsky/opt/eapy')\n",
    "import eapy"
   ]
  },
  {
   "cell_type": "markdown",
   "metadata": {},
   "source": [
    "and define parameters of the EPICS V4 RPC service, such as a channel name and timeout"
   ]
  },
  {
   "cell_type": "code",
   "execution_count": 2,
   "metadata": {
    "collapsed": true
   },
   "outputs": [],
   "source": [
    "chName = \"ea4.rpc:mongo\"; # service based on MongoDB\n",
    "timeout = 30.0;"
   ]
  },
  {
   "cell_type": "markdown",
   "metadata": {},
   "source": [
    "Then, we need to start a session for connecting it with the middle layer service and creating a session-specific context."
   ]
  },
  {
   "cell_type": "code",
   "execution_count": 3,
   "metadata": {
    "collapsed": true
   },
   "outputs": [],
   "source": [
    "session = eapy.Session.createSession();\n",
    "session.open(chName, timeout);"
   ]
  },
  {
   "cell_type": "markdown",
   "metadata": {},
   "source": [
    "Now we can create a local proxy associated with the MongoDB collection"
   ]
  },
  {
   "cell_type": "code",
   "execution_count": 5,
   "metadata": {
    "collapsed": true
   },
   "outputs": [],
   "source": [
    "event_descriptorProxy = session.createProxy(\"event_descriptor\"); "
   ]
  },
  {
   "cell_type": "markdown",
   "metadata": {},
   "source": [
    "and apply an action to collect data sets"
   ]
  },
  {
   "cell_type": "code",
   "execution_count": 6,
   "metadata": {
    "collapsed": false
   },
   "outputs": [
    {
     "name": "stdout",
     "output_type": "stream",
     "text": [
      "processing time:  0:00:00.708231\n"
     ]
    }
   ],
   "source": [
    "t1 = datetime.now();\n",
    "event_descriptorCollect = event_descriptorProxy.collect(timeout);\n",
    "t2 = datetime.now()\n",
    "print \"processing time: \", (t2 - t1);"
   ]
  },
  {
   "cell_type": "markdown",
   "metadata": {},
   "source": [
    "The collect method returns a structure including a query status and a collection of documents. First, let's check the query status (int type, string message, string callTree). There are four types of query statuses: 0 - OK, 1 - Warning, 2 - Error, 3 - Fatal. "
   ]
  },
  {
   "cell_type": "code",
   "execution_count": 7,
   "metadata": {
    "collapsed": false
   },
   "outputs": [
    {
     "name": "stdout",
     "output_type": "stream",
     "text": [
      "status: 0\n"
     ]
    }
   ],
   "source": [
    "print \"status:\", event_descriptorCollect['status']['type']"
   ]
  },
  {
   "cell_type": "markdown",
   "metadata": {},
   "source": [
    "If the query is OK, we can extract an array of documents."
   ]
  },
  {
   "cell_type": "code",
   "execution_count": 8,
   "metadata": {
    "collapsed": false
   },
   "outputs": [
    {
     "name": "stdout",
     "output_type": "stream",
     "text": [
      "size: 1941\n"
     ]
    }
   ],
   "source": [
    "docs = event_descriptorCollect['docs']\n",
    "print \"size:\", docs['size']"
   ]
  },
  {
   "cell_type": "markdown",
   "metadata": {
    "collapsed": true
   },
   "source": [
    "Also we can select a few entries by combining filter() and collect()"
   ]
  },
  {
   "cell_type": "code",
   "execution_count": 10,
   "metadata": {
    "collapsed": false
   },
   "outputs": [
    {
     "name": "stdout",
     "output_type": "stream",
     "text": [
      "0\n"
     ]
    }
   ],
   "source": [
    "event_descriptorFilter = event_descriptorProxy.filter([\n",
    "{\"$match\" : {\"uid\" : {\"$regex\" : \"197d5a64-3748-40b9-a257-6b89208b8010\"}}}]);\n",
    "event_descriptorCollect2 = event_descriptorFilter.collect(timeout) \n",
    "print event_descriptorCollect2['status']['type']"
   ]
  },
  {
   "cell_type": "markdown",
   "metadata": {},
   "source": [
    "and get corresponding documents:"
   ]
  },
  {
   "cell_type": "code",
   "execution_count": 11,
   "metadata": {
    "collapsed": false
   },
   "outputs": [
    {
     "name": "stdout",
     "output_type": "stream",
     "text": [
      "size: 1\n"
     ]
    }
   ],
   "source": [
    "docs = event_descriptorCollect2['docs']\n",
    "print \"size:\", docs['size']"
   ]
  },
  {
   "cell_type": "markdown",
   "metadata": {},
   "source": [
    "According to the schema, the event descriptor has a composite structure consisting of common properties, like run_start_id, uid, time"
   ]
  },
  {
   "cell_type": "code",
   "execution_count": 16,
   "metadata": {
    "collapsed": false
   },
   "outputs": [
    {
     "name": "stdout",
     "output_type": "stream",
     "text": [
      "54e3c77c7368e3237a36b289 197d5a64-3748-40b9-a257-6b89208b8010 2015-02-17 17:58:23 7\n"
     ]
    }
   ],
   "source": [
    "doc = docs['0']\n",
    "print doc['run_start_id'], doc['uid'], datetime.fromtimestamp(int(doc['time'])), len(doc['data_keys'].keys())"
   ]
  },
  {
   "cell_type": "markdown",
   "metadata": {},
   "source": [
    "and a descriptor-specific collection of data keys"
   ]
  },
  {
   "cell_type": "code",
   "execution_count": 15,
   "metadata": {
    "collapsed": false
   },
   "outputs": [
    {
     "name": "stdout",
     "output_type": "stream",
     "text": [
      "theta\n",
      "     dtype number\n",
      "     shape []\n",
      "     source XF:23ID1-ES{Dif-Ax:Th}Mtr.RBV\n",
      "sclr_ch2\n",
      "     dtype number\n",
      "     shape []\n",
      "     source PV:XF:23ID1-ES{Sclr:1}.S2\n",
      "sclr_ch3\n",
      "     dtype number\n",
      "     shape []\n",
      "     source PV:XF:23ID1-ES{Sclr:1}.S3\n",
      "sclr_ch1\n",
      "     dtype number\n",
      "     shape []\n",
      "     source PV:XF:23ID1-ES{Sclr:1}.S1\n",
      "sclr_ch6\n",
      "     dtype number\n",
      "     shape []\n",
      "     source PV:XF:23ID1-ES{Sclr:1}.S6\n",
      "sclr_ch4\n",
      "     dtype number\n",
      "     shape []\n",
      "     source PV:XF:23ID1-ES{Sclr:1}.S4\n",
      "sclr_ch5\n",
      "     dtype number\n",
      "     shape []\n",
      "     source PV:XF:23ID1-ES{Sclr:1}.S5\n"
     ]
    }
   ],
   "source": [
    "data_keys = doc['data_keys']\n",
    "for key in data_keys.keys():\n",
    "    data_key = data_keys[key]\n",
    "    print key \n",
    "    if isinstance(data_key, eapy.Document) :\n",
    "        anames = data_key.keys()\n",
    "        atypes = data_key.types()\n",
    "        for i in range(len(anames)):\n",
    "            if(atypes[i] == \"numpy.ndarray\") :\n",
    "                print \"    \", anames[i], data_key.ndarray(anames[i])\n",
    "            else :\n",
    "                print \"    \", anames[i], data_key[anames[i]]"
   ]
  },
  {
   "cell_type": "code",
   "execution_count": null,
   "metadata": {
    "collapsed": true
   },
   "outputs": [],
   "source": []
  }
 ],
 "metadata": {
  "kernelspec": {
   "display_name": "CSX",
   "language": "python",
   "name": "csx"
  },
  "language_info": {
   "codemirror_mode": {
    "name": "ipython",
    "version": 2
   },
   "file_extension": ".py",
   "mimetype": "text/x-python",
   "name": "python",
   "nbconvert_exporter": "python",
   "pygments_lexer": "ipython2",
   "version": "2.7.10"
  }
 },
 "nbformat": 4,
 "nbformat_minor": 0
}
