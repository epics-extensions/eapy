{
 "metadata": {
  "name": "PVsQuery",
  "signature": "sha256:30fdfff99dca09fca63df4fd5828926f4f059b9eed25c8858af990fd9c13fa03"
 },
 "nbformat": 3,
 "nbformat_minor": 0,
 "worksheets": [
  {
   "cells": [
    {
     "cell_type": "heading",
     "level": 1,
     "metadata": {},
     "source": [
      "1.3 Query of the PVs Collection"
     ]
    },
    {
     "cell_type": "markdown",
     "metadata": {},
     "source": [
      "This example illustartes the V4 Channel Archiver interface for getting the information about pvs associated with the selected archive, such as\n",
      "* name: pv name\n",
      "* start: timestamp of the first record [secs]\n",
      "* end: timestamp of the last record [secs]\n",
      "\n",
      "This data structure is designed after the original XML-RPC protocol\n",
      "(see, for example, 4.4.3 archiver.names, Channel Archiver Manual, 2006)"
     ]
    },
    {
     "cell_type": "markdown",
     "metadata": {},
     "source": [
      "First, we import the necessary modules from the python standard library, numpy, pandas, and eapy."
     ]
    },
    {
     "cell_type": "code",
     "collapsed": false,
     "input": [
      "#import the standard modules\n",
      "import sys\n",
      "import pdb\n",
      "import time\n",
      "from datetime import timedelta, datetime, tzinfo\n",
      "\n",
      "#import numpy, pandas\n",
      "sys.path.insert(1, '/home/malitsky/opt/python/lib/python2.7/site-packages')\n",
      "import numpy as np\n",
      "import pandas as pd\n",
      "\n",
      "#import the eapy module\n",
      "import eapy"
     ],
     "language": "python",
     "metadata": {},
     "outputs": [],
     "prompt_number": 1
    },
    {
     "cell_type": "markdown",
     "metadata": {},
     "source": [
      "and define parameters of the EPICS V4 RPC service, such as a server address, channel name and timeout."
     ]
    },
    {
     "cell_type": "code",
     "collapsed": false,
     "input": [
      "chName = \"ea4.rpc:classic\"; # service based on the original index files\n",
      "timeout = 50.0;"
     ],
     "language": "python",
     "metadata": {},
     "outputs": [],
     "prompt_number": 2
    },
    {
     "cell_type": "markdown",
     "metadata": {},
     "source": [
      "Then, we need to start a session for connecting it with the middle layer service and creating a session-specific context."
     ]
    },
    {
     "cell_type": "code",
     "collapsed": false,
     "input": [
      "session = eapy.Session.createSession();\n",
      "session.open(chName, timeout);"
     ],
     "language": "python",
     "metadata": {},
     "outputs": [],
     "prompt_number": 3
    },
    {
     "cell_type": "markdown",
     "metadata": {},
     "source": [
      "In the EPICS Archiver, data are partitioned into multiple subarchives associated \n",
      "with corresponding control subsystems.  Their names are located in the 'archives' collection."
     ]
    },
    {
     "cell_type": "code",
     "collapsed": false,
     "input": [
      "archivesProxy = session.createProxy(\"archives\");\n",
      "archivesCollect = archivesProxy.collect(timeout);\n",
      "print \"status: \", archivesCollect['status']['type']"
     ],
     "language": "python",
     "metadata": {},
     "outputs": [
      {
       "output_type": "stream",
       "stream": "stdout",
       "text": [
        "status:  0\n"
       ]
      }
     ],
     "prompt_number": 4
    },
    {
     "cell_type": "markdown",
     "metadata": {},
     "source": [
      "Now we can loop over all archives and check their sizes"
     ]
    },
    {
     "cell_type": "code",
     "collapsed": false,
     "input": [
      "archives = archivesCollect['docs']\n",
      "for i in range(archives['size']):\n",
      "    archive = archives[str(i)]['name']\n",
      "    archive = archive.replace('/', '_')\n",
      "    pvsProxy = session.createProxy(archive);\n",
      "    t1 = datetime.now();\n",
      "    pvsCollect = pvsProxy.collect(timeout)\n",
      "    t2 = datetime.now()\n",
      "    if(pvsCollect['status']['type'] == 0):\n",
      "        print i, archive, \"processing time: \", (t2 - t1), \"size: \", pvsCollect['docs']['size']\n",
      "    else:\n",
      "        print i, archive, \"** error **\"\n",
      "    time.sleep(1.0)"
     ],
     "language": "python",
     "metadata": {},
     "outputs": [
      {
       "output_type": "stream",
       "stream": "stdout",
       "text": [
        "0 bakeout_Current processing time:  0:00:00.005504 size:  14\n",
        "1"
       ]
      },
      {
       "output_type": "stream",
       "stream": "stdout",
       "text": [
        " bakeout_2015 processing time:  0:00:00.023142 size:  48\n",
        "2"
       ]
      },
      {
       "output_type": "stream",
       "stream": "stdout",
       "text": [
        " vacuum_Current processing time:  0:00:00.685118 size:  2263\n",
        "3"
       ]
      },
      {
       "output_type": "stream",
       "stream": "stdout",
       "text": [
        " beaminst_2014 processing time:  0:00:27.528185 size:  28841\n",
        "4"
       ]
      },
      {
       "output_type": "stream",
       "stream": "stdout",
       "text": [
        " controls_Current processing time:  0:00:02.582488 size:  5006\n",
        "5"
       ]
      },
      {
       "output_type": "stream",
       "stream": "stdout",
       "text": [
        " eps_Current processing time:  0:00:00.165314 size:  997\n",
        "6"
       ]
      },
      {
       "output_type": "stream",
       "stream": "stdout",
       "text": [
        " optics_Current processing time:  0:00:00.585932 size:  2026\n",
        "7"
       ]
      },
      {
       "output_type": "stream",
       "stream": "stdout",
       "text": [
        " beaminst_2015 processing time:  0:00:10.250331 size:  14751\n",
        "8"
       ]
      },
      {
       "output_type": "stream",
       "stream": "stdout",
       "text": [
        " frontend_Current processing time:  0:00:00.087186 size:  28\n",
        "9"
       ]
      },
      {
       "output_type": "stream",
       "stream": "stdout",
       "text": [
        " bakeout_2014 processing time:  0:00:00.050067 size:  96\n",
        "10"
       ]
      },
      {
       "output_type": "stream",
       "stream": "stdout",
       "text": [
        " vacuum_2014 processing time:  0:00:08.067396 size:  10641\n",
        "11"
       ]
      },
      {
       "output_type": "stream",
       "stream": "stdout",
       "text": [
        " frontend_2014 processing time:  0:00:00.080120 size:  28\n",
        "12"
       ]
      },
      {
       "output_type": "stream",
       "stream": "stdout",
       "text": [
        " controls_2014 processing time:  0:00:06.730090 size:  9162\n",
        "13"
       ]
      },
      {
       "output_type": "stream",
       "stream": "stdout",
       "text": [
        " sr_2015 processing time:  0:00:00.079859 size:  3\n",
        "14"
       ]
      },
      {
       "output_type": "stream",
       "stream": "stdout",
       "text": [
        " eps_2015 processing time:  0:00:00.284477 size:  1090\n",
        "15"
       ]
      },
      {
       "output_type": "stream",
       "stream": "stdout",
       "text": [
        " scaler_Current processing time:  0:00:00.017048 size:  74\n",
        "16"
       ]
      },
      {
       "output_type": "stream",
       "stream": "stdout",
       "text": [
        " controls_2015 processing time:  0:00:04.268619 size:  7966\n",
        "17"
       ]
      },
      {
       "output_type": "stream",
       "stream": "stdout",
       "text": [
        " sr_2014 processing time:  0:00:00.063640 size:  3\n",
        "18"
       ]
      },
      {
       "output_type": "stream",
       "stream": "stdout",
       "text": [
        " vacuum_2015 processing time:  0:00:01.206570 size:  3126\n",
        "19"
       ]
      },
      {
       "output_type": "stream",
       "stream": "stdout",
       "text": [
        " scaler_2014 processing time:  0:00:00.046491 size:  82\n",
        "20"
       ]
      },
      {
       "output_type": "stream",
       "stream": "stdout",
       "text": [
        " rga_2014 processing time:  0:00:00.027881 size:  80\n",
        "21"
       ]
      },
      {
       "output_type": "stream",
       "stream": "stdout",
       "text": [
        " rga_Current processing time:  0:00:00.007603 size:  37\n",
        "22"
       ]
      },
      {
       "output_type": "stream",
       "stream": "stdout",
       "text": [
        " id_2014 processing time:  0:00:00.060303 size:  141\n",
        "23"
       ]
      },
      {
       "output_type": "stream",
       "stream": "stdout",
       "text": [
        " endstation_2015 processing time:  0:00:18.475715 size:  20266\n",
        "24"
       ]
      },
      {
       "output_type": "stream",
       "stream": "stdout",
       "text": [
        " optics_2014 processing time:  0:00:01.617481 size:  3435\n",
        "25"
       ]
      },
      {
       "output_type": "stream",
       "stream": "stdout",
       "text": [
        " frontend_2015 processing time:  0:00:00.068343 size:  28\n",
        "26"
       ]
      },
      {
       "output_type": "stream",
       "stream": "stdout",
       "text": [
        " eps_2014 processing time:  0:00:00.411965 size:  1172\n",
        "27"
       ]
      },
      {
       "output_type": "stream",
       "stream": "stdout",
       "text": [
        " id_2015 processing time:  0:00:00.572195 size:  135\n",
        "28"
       ]
      },
      {
       "output_type": "stream",
       "stream": "stdout",
       "text": [
        " id_Current processing time:  0:00:00.016217 size:  65\n",
        "29"
       ]
      },
      {
       "output_type": "stream",
       "stream": "stdout",
       "text": [
        " endstation_2014 processing time:  0:00:01.524482 size:  3603\n",
        "30"
       ]
      },
      {
       "output_type": "stream",
       "stream": "stdout",
       "text": [
        " scaler_2015 processing time:  0:00:00.053746 size:  74\n",
        "31"
       ]
      },
      {
       "output_type": "stream",
       "stream": "stdout",
       "text": [
        " rga_2015 processing time:  0:00:00.033168 size:  80\n",
        "32"
       ]
      },
      {
       "output_type": "stream",
       "stream": "stdout",
       "text": [
        " sr_Current processing time:  0:00:00.004606 size:  3\n",
        "33"
       ]
      },
      {
       "output_type": "stream",
       "stream": "stdout",
       "text": [
        " beaminst_Current processing time:  0:00:11.323972 size:  11582\n",
        "34"
       ]
      },
      {
       "output_type": "stream",
       "stream": "stdout",
       "text": [
        " endstation_Current processing time:  0:00:15.497016 size:  14302\n",
        "35"
       ]
      },
      {
       "output_type": "stream",
       "stream": "stdout",
       "text": [
        " optics_2015 processing time:  0:00:01.164875 size:  2587\n"
       ]
      }
     ],
     "prompt_number": 5
    },
    {
     "cell_type": "markdown",
     "metadata": {},
     "source": [
      "Let's take the first archive and check its pvs"
     ]
    },
    {
     "cell_type": "code",
     "collapsed": false,
     "input": [
      "pvsProxy = session.createProxy(\"bakeout_Current\");\n",
      "pvsCollect   = pvsProxy.collect(timeout);\n",
      "print pvsCollect['status']['type']"
     ],
     "language": "python",
     "metadata": {},
     "outputs": [
      {
       "output_type": "stream",
       "stream": "stdout",
       "text": [
        "0\n"
       ]
      }
     ],
     "prompt_number": 6
    },
    {
     "cell_type": "markdown",
     "metadata": {},
     "source": [
      "There are four types of query statuses: 0 - OK, 1 - Warning, 2 - Error, 3 - Fatal. If the query is OK, we can extract an array of documents. "
     ]
    },
    {
     "cell_type": "code",
     "collapsed": false,
     "input": [
      "pvs = pvsCollect['docs']"
     ],
     "language": "python",
     "metadata": {},
     "outputs": [],
     "prompt_number": 7
    },
    {
     "cell_type": "markdown",
     "metadata": {},
     "source": [
      "According to the MongoDB-oriented model, any collections are heterogeneous. As a result, it is represented by the dynamic structure with size and index fields, like 0, 1, etc."
     ]
    },
    {
     "cell_type": "code",
     "collapsed": false,
     "input": [
      "size = pvs['size'];\n",
      "pvsNP = np.zeros((size,),dtype=[('pv', 'a100'),('start', 'a100'),('end', 'a100')])\n",
      "for i in range(size):\n",
      "    pv = pvs[str(i)]; \n",
      "    pvsNP[i] = (pv['pv'], pv.datetime('start'), pv.datetime('end'))\n",
      "    \n",
      "pd.options.display.max_rows = size  \n",
      "pvsDF = pd.DataFrame(pvsNP);\n",
      "pvsDF"
     ],
     "language": "python",
     "metadata": {},
     "outputs": [
      {
       "html": [
        "<div style=\"max-height:1000px;max-width:1500px;overflow:auto;\">\n",
        "<table border=\"1\" class=\"dataframe\">\n",
        "  <thead>\n",
        "    <tr style=\"text-align: right;\">\n",
        "      <th></th>\n",
        "      <th>pv</th>\n",
        "      <th>start</th>\n",
        "      <th>end</th>\n",
        "    </tr>\n",
        "  </thead>\n",
        "  <tbody>\n",
        "    <tr>\n",
        "      <th>0</th>\n",
        "      <td>XF:23ID-VA:BC01{TC:01}T-I</td>\n",
        "      <td>2015-06-29 02:01:03.417493</td>\n",
        "      <td>2015-06-30 19:22:11.635861</td>\n",
        "    </tr>\n",
        "    <tr>\n",
        "      <th>1</th>\n",
        "      <td>XF:23ID-VA:BC01{TC:02}T-I</td>\n",
        "      <td>2015-06-29 02:01:05.839810</td>\n",
        "      <td>2015-06-30 19:22:22.417601</td>\n",
        "    </tr>\n",
        "    <tr>\n",
        "      <th>2</th>\n",
        "      <td>XF:23ID-VA:BC01{TC:03}T-I</td>\n",
        "      <td>2015-06-29 02:01:02.839559</td>\n",
        "      <td>2015-06-30 19:22:14.636223</td>\n",
        "    </tr>\n",
        "    <tr>\n",
        "      <th>3</th>\n",
        "      <td>XF:23ID-VA:BC01{TC:04}T-I</td>\n",
        "      <td>2015-06-29 02:01:06.417500</td>\n",
        "      <td>2015-06-30 19:22:25.417605</td>\n",
        "    </tr>\n",
        "    <tr>\n",
        "      <th>4</th>\n",
        "      <td>XF:23ID-VA:BC01{TC:05}T-I</td>\n",
        "      <td>2015-06-29 02:01:04.839702</td>\n",
        "      <td>2015-06-30 19:22:23.637069</td>\n",
        "    </tr>\n",
        "    <tr>\n",
        "      <th>5</th>\n",
        "      <td>XF:23ID-VA:BC01{TC:06}T-I</td>\n",
        "      <td>2015-06-29 02:00:59.839306</td>\n",
        "      <td>2015-06-30 19:22:20.636735</td>\n",
        "    </tr>\n",
        "    <tr>\n",
        "      <th>6</th>\n",
        "      <td>XF:23ID-VA:BC01{TC:07}T-I</td>\n",
        "      <td>2015-06-29 02:01:11.840238</td>\n",
        "      <td>2015-06-30 19:22:17.636461</td>\n",
        "    </tr>\n",
        "    <tr>\n",
        "      <th>7</th>\n",
        "      <td>XF:23ID-VA:BC01{TC:08}T-I</td>\n",
        "      <td>2015-06-29 02:01:10.840199</td>\n",
        "      <td>2015-06-30 19:22:29.637583</td>\n",
        "    </tr>\n",
        "    <tr>\n",
        "      <th>8</th>\n",
        "      <td>XF:23ID-VA:BC01{TC:09}T-I</td>\n",
        "      <td>2015-06-29 02:01:09.417492</td>\n",
        "      <td>2015-06-30 19:22:08.635627</td>\n",
        "    </tr>\n",
        "    <tr>\n",
        "      <th>9</th>\n",
        "      <td>XF:23ID-VA:BC01{TC:10}T-I</td>\n",
        "      <td>2015-06-29 02:01:08.840006</td>\n",
        "      <td>2015-06-30 19:22:28.417585</td>\n",
        "    </tr>\n",
        "    <tr>\n",
        "      <th>10</th>\n",
        "      <td>XF:23ID-VA:BC01{TC:11}T-I</td>\n",
        "      <td>2015-06-29 02:01:11.840240</td>\n",
        "      <td>2015-06-30 17:22:17.986251</td>\n",
        "    </tr>\n",
        "    <tr>\n",
        "      <th>11</th>\n",
        "      <td>XF:23ID-VA:BC02{TC:01}T-I</td>\n",
        "      <td>2015-06-29 02:01:10.457630</td>\n",
        "      <td>2015-06-30 19:22:12.635950</td>\n",
        "    </tr>\n",
        "    <tr>\n",
        "      <th>12</th>\n",
        "      <td>XF:23ID-VA:BC02{TC:05}T-I</td>\n",
        "      <td>2015-06-29 02:01:11.840241</td>\n",
        "      <td>2015-06-30 19:22:29.493627</td>\n",
        "    </tr>\n",
        "    <tr>\n",
        "      <th>13</th>\n",
        "      <td>XF:23ID-VA:BC02{TC:09}T-I</td>\n",
        "      <td>2015-06-29 02:01:08.840021</td>\n",
        "      <td>2015-06-30 19:22:23.493575</td>\n",
        "    </tr>\n",
        "  </tbody>\n",
        "</table>\n",
        "</div>"
       ],
       "output_type": "pyout",
       "prompt_number": 8,
       "text": [
        "                           pv                       start  \\\n",
        "0   XF:23ID-VA:BC01{TC:01}T-I  2015-06-29 02:01:03.417493   \n",
        "1   XF:23ID-VA:BC01{TC:02}T-I  2015-06-29 02:01:05.839810   \n",
        "2   XF:23ID-VA:BC01{TC:03}T-I  2015-06-29 02:01:02.839559   \n",
        "3   XF:23ID-VA:BC01{TC:04}T-I  2015-06-29 02:01:06.417500   \n",
        "4   XF:23ID-VA:BC01{TC:05}T-I  2015-06-29 02:01:04.839702   \n",
        "5   XF:23ID-VA:BC01{TC:06}T-I  2015-06-29 02:00:59.839306   \n",
        "6   XF:23ID-VA:BC01{TC:07}T-I  2015-06-29 02:01:11.840238   \n",
        "7   XF:23ID-VA:BC01{TC:08}T-I  2015-06-29 02:01:10.840199   \n",
        "8   XF:23ID-VA:BC01{TC:09}T-I  2015-06-29 02:01:09.417492   \n",
        "9   XF:23ID-VA:BC01{TC:10}T-I  2015-06-29 02:01:08.840006   \n",
        "10  XF:23ID-VA:BC01{TC:11}T-I  2015-06-29 02:01:11.840240   \n",
        "11  XF:23ID-VA:BC02{TC:01}T-I  2015-06-29 02:01:10.457630   \n",
        "12  XF:23ID-VA:BC02{TC:05}T-I  2015-06-29 02:01:11.840241   \n",
        "13  XF:23ID-VA:BC02{TC:09}T-I  2015-06-29 02:01:08.840021   \n",
        "\n",
        "                           end  \n",
        "0   2015-06-30 19:22:11.635861  \n",
        "1   2015-06-30 19:22:22.417601  \n",
        "2   2015-06-30 19:22:14.636223  \n",
        "3   2015-06-30 19:22:25.417605  \n",
        "4   2015-06-30 19:22:23.637069  \n",
        "5   2015-06-30 19:22:20.636735  \n",
        "6   2015-06-30 19:22:17.636461  \n",
        "7   2015-06-30 19:22:29.637583  \n",
        "8   2015-06-30 19:22:08.635627  \n",
        "9   2015-06-30 19:22:28.417585  \n",
        "10  2015-06-30 17:22:17.986251  \n",
        "11  2015-06-30 19:22:12.635950  \n",
        "12  2015-06-30 19:22:29.493627  \n",
        "13  2015-06-30 19:22:23.493575  "
       ]
      }
     ],
     "prompt_number": 8
    },
    {
     "cell_type": "code",
     "collapsed": false,
     "input": [
      "session.close();"
     ],
     "language": "python",
     "metadata": {},
     "outputs": [],
     "prompt_number": 9
    },
    {
     "cell_type": "code",
     "collapsed": false,
     "input": [],
     "language": "python",
     "metadata": {},
     "outputs": []
    }
   ],
   "metadata": {}
  }
 ]
}