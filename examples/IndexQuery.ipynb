{
 "metadata": {
  "name": "",
  "signature": "sha256:e0935503092b8b9a9533138495483a5001afd831edf4f54db0fdde4fb5eec9cb"
 },
 "nbformat": 3,
 "nbformat_minor": 0,
 "worksheets": [
  {
   "cells": [
    {
     "cell_type": "heading",
     "level": 1,
     "metadata": {},
     "source": [
      "1.3.1 Query of the Datablock Indices"
     ]
    },
    {
     "cell_type": "markdown",
     "metadata": {},
     "source": [
      "This example illustartes the extension of the Channel Archiver interface for querying the index files or MongoDB collections about indices of pv's datablocks (chunks) with time series located in data files. \n"
     ]
    },
    {
     "cell_type": "markdown",
     "metadata": {},
     "source": [
      "First, we import the necessary modules from the python standard library, numpy, pandas, and eapy."
     ]
    },
    {
     "cell_type": "code",
     "collapsed": false,
     "input": [
      "#import the standard modules\n",
      "import sys\n",
      "import pdb\n",
      "import time\n",
      "from datetime import timedelta, datetime, tzinfo\n",
      "\n",
      "#import numpy, pandas\n",
      "import numpy as np\n",
      "import pandas as pd\n",
      "\n",
      "#import the eapy module\n",
      "sys.path.append('/opt/eapy')\n",
      "import eapy"
     ],
     "language": "python",
     "metadata": {},
     "outputs": [],
     "prompt_number": 1
    },
    {
     "cell_type": "markdown",
     "metadata": {},
     "source": [
      "and define parameters of the EPICS V4 RPC service, such as a channel name and timeout."
     ]
    },
    {
     "cell_type": "code",
     "collapsed": false,
     "input": [
      "# chName = \"ea4.rpc:classic\"; # service based on the original index files\n",
      "chName = \"ea4.rpc:mongo\"; # service based on MongoDB\n",
      "timeout = 20.0;"
     ],
     "language": "python",
     "metadata": {},
     "outputs": [],
     "prompt_number": 2
    },
    {
     "cell_type": "markdown",
     "metadata": {},
     "source": [
      "Then, we need to start a session for connecting it with the middle layer service and creating a session-specific context."
     ]
    },
    {
     "cell_type": "code",
     "collapsed": false,
     "input": [
      "session = eapy.Session.createSession();\n",
      "session.open(chName, timeout);"
     ],
     "language": "python",
     "metadata": {},
     "outputs": [],
     "prompt_number": 3
    },
    {
     "cell_type": "markdown",
     "metadata": {},
     "source": [
      "In the EPICS Archiver, data are partitioned into multiple subarchives associated \n",
      "with corresponding control subsystems. In this example, we use records of EPICS \n",
      "process variables (pvs) acquired from the RadMon (radiation monitor) subsystem.. "
     ]
    },
    {
     "cell_type": "code",
     "collapsed": false,
     "input": [
      "pvsProxy = session.createProxy(\"RadMon_2015\");"
     ],
     "language": "python",
     "metadata": {},
     "outputs": [],
     "prompt_number": 6
    },
    {
     "cell_type": "markdown",
     "metadata": {},
     "source": [
      "According to the Spark-oriented approach, we need to specify a query and apply the \n",
      "the collect action. (Note: The original archiver service does not support regular expressions\n",
      "with '/', '{', '}' and ignores the $project operator.)"
     ]
    },
    {
     "cell_type": "code",
     "collapsed": false,
     "input": [
      "# pvsCollect   = pvsProxy.collect(timeout);\n",
      "pvsFilter = pvsProxy.filter([{\"$match\" : {\"pv\" : {\"$regex\" : \"SR:C21-AM.*RadMon:ID.*Stat-Sts\"}}},\n",
      "# pvsFilter = pvsProxy.filter([{\"$match\" : {\"pv\" : {\"$regex\" : \".*\"}}},\n",
      "                             {\"$project\" : {\"pv\" : 1, \"start\" : 1, \"end\" : 1, \"file\" : 1, \"entries\" : 1}}]);\n",
      "pvsCollect   = pvsFilter.collect(timeout);"
     ],
     "language": "python",
     "metadata": {},
     "outputs": [],
     "prompt_number": 10
    },
    {
     "cell_type": "markdown",
     "metadata": {},
     "source": [
      "The collect method returns a structure including a query status and a collection of documents. First, let's check the query status (int type, string message, string callTree)."
     ]
    },
    {
     "cell_type": "code",
     "collapsed": false,
     "input": [
      "print pvsCollect['status']['type']\n",
      "print pvsCollect['status']['message']"
     ],
     "language": "python",
     "metadata": {},
     "outputs": [
      {
       "output_type": "stream",
       "stream": "stdout",
       "text": [
        "0\n",
        "\n"
       ]
      }
     ],
     "prompt_number": 11
    },
    {
     "cell_type": "markdown",
     "metadata": {},
     "source": [
      "There are four types of query statuses: 0 - OK, 1 - Warning, 2 - Error, 3 - Fatal. If the query is OK, we can extract an array of documents. "
     ]
    },
    {
     "cell_type": "code",
     "collapsed": false,
     "input": [
      "pvs = pvsCollect['docs']"
     ],
     "language": "python",
     "metadata": {},
     "outputs": [],
     "prompt_number": 12
    },
    {
     "cell_type": "markdown",
     "metadata": {},
     "source": [
      "According to the MongoDB-oriented model, any collections are heterogeneous. As a result, it is represented by the dynamic structure with size and index fields, like 0, 1, etc."
     ]
    },
    {
     "cell_type": "code",
     "collapsed": false,
     "input": [
      "size = pvs['size'];\n",
      "pvsNP = np.zeros((size,),dtype=[('pv', 'a50'),('start', 'a50'),('end', 'a50'), ('file', 'a50')])\n",
      "for i in range(size):\n",
      "    pv = pvs[str(i)]; \n",
      "    pvsNP[i] = (pv['pv'], pv.datetime('start'), pv.datetime('end'), pv['file'])\n",
      "    \n",
      "pd.options.display.max_rows = size  \n",
      "pvsDF = pd.DataFrame(pvsNP);\n",
      "pvsDF"
     ],
     "language": "python",
     "metadata": {},
     "outputs": [
      {
       "html": [
        "<div style=\"max-height:1000px;max-width:1500px;overflow:auto;\">\n",
        "<table border=\"1\" class=\"dataframe\">\n",
        "  <thead>\n",
        "    <tr style=\"text-align: right;\">\n",
        "      <th></th>\n",
        "      <th>pv</th>\n",
        "      <th>start</th>\n",
        "      <th>end</th>\n",
        "      <th>file</th>\n",
        "    </tr>\n",
        "  </thead>\n",
        "  <tbody>\n",
        "    <tr>\n",
        "      <th>0 </th>\n",
        "      <td> SR:C21-AM{RadMon:ID}Stat-Sts</td>\n",
        "      <td> 2015-01-05 02:01:09.970000</td>\n",
        "      <td> 2015-01-12 02:00:29.444999</td>\n",
        "      <td> /DATA/RadMon/2015/./01_05/20150105</td>\n",
        "    </tr>\n",
        "    <tr>\n",
        "      <th>1 </th>\n",
        "      <td> SR:C21-AM{RadMon:ID}Stat-Sts</td>\n",
        "      <td> 2015-01-12 02:01:17.082999</td>\n",
        "      <td> 2015-01-16 11:18:48.135999</td>\n",
        "      <td> /DATA/RadMon/2015/./01_12/20150112</td>\n",
        "    </tr>\n",
        "    <tr>\n",
        "      <th>2 </th>\n",
        "      <td> SR:C21-AM{RadMon:ID}Stat-Sts</td>\n",
        "      <td> 2015-01-16 11:21:01.592999</td>\n",
        "      <td> 2015-01-19 02:00:28.819999</td>\n",
        "      <td> /DATA/RadMon/2015/./01_16/20150116</td>\n",
        "    </tr>\n",
        "    <tr>\n",
        "      <th>3 </th>\n",
        "      <td> SR:C21-AM{RadMon:ID}Stat-Sts</td>\n",
        "      <td> 2015-01-19 02:01:16.181999</td>\n",
        "      <td> 2015-01-26 11:41:32.244999</td>\n",
        "      <td> /DATA/RadMon/2015/./01_19/20150119</td>\n",
        "    </tr>\n",
        "    <tr>\n",
        "      <th>4 </th>\n",
        "      <td> SR:C21-AM{RadMon:ID}Stat-Sts</td>\n",
        "      <td> 2015-01-26 11:43:47.964999</td>\n",
        "      <td> 2015-02-02 02:00:34.492000</td>\n",
        "      <td> /DATA/RadMon/2015/./01_26/20150126</td>\n",
        "    </tr>\n",
        "    <tr>\n",
        "      <th>5 </th>\n",
        "      <td> SR:C21-AM{RadMon:ID}Stat-Sts</td>\n",
        "      <td> 2015-02-02 02:02:03.349999</td>\n",
        "      <td> 2015-02-09 02:00:25.239000</td>\n",
        "      <td> /DATA/RadMon/2015/./02_02/20150202</td>\n",
        "    </tr>\n",
        "    <tr>\n",
        "      <th>6 </th>\n",
        "      <td> SR:C21-AM{RadMon:ID}Stat-Sts</td>\n",
        "      <td> 2015-02-09 02:01:40.394000</td>\n",
        "      <td> 2015-02-16 02:00:09.986000</td>\n",
        "      <td> /DATA/RadMon/2015/./02_09/20150209</td>\n",
        "    </tr>\n",
        "    <tr>\n",
        "      <th>7 </th>\n",
        "      <td> SR:C21-AM{RadMon:ID}Stat-Sts</td>\n",
        "      <td> 2015-02-16 02:01:21.414000</td>\n",
        "      <td> 2015-02-23 02:00:12.163000</td>\n",
        "      <td> /DATA/RadMon/2015/./02_16/20150216</td>\n",
        "    </tr>\n",
        "    <tr>\n",
        "      <th>8 </th>\n",
        "      <td> SR:C21-AM{RadMon:ID}Stat-Sts</td>\n",
        "      <td> 2015-02-23 02:01:43.446000</td>\n",
        "      <td> 2015-03-02 02:00:06.250999</td>\n",
        "      <td> /DATA/RadMon/2015/./02_23/20150223</td>\n",
        "    </tr>\n",
        "    <tr>\n",
        "      <th>9 </th>\n",
        "      <td> SR:C21-AM{RadMon:ID}Stat-Sts</td>\n",
        "      <td> 2015-03-02 02:01:51.457000</td>\n",
        "      <td> 2015-03-09 02:00:20.138999</td>\n",
        "      <td> /DATA/RadMon/2015/./03_02/20150302</td>\n",
        "    </tr>\n",
        "    <tr>\n",
        "      <th>10</th>\n",
        "      <td> SR:C21-AM{RadMon:ID}Stat-Sts</td>\n",
        "      <td> 2015-03-09 02:02:07.670000</td>\n",
        "      <td> 2015-03-11 14:58:21.051000</td>\n",
        "      <td> /DATA/RadMon/2015/./03_09/20150309</td>\n",
        "    </tr>\n",
        "  </tbody>\n",
        "</table>\n",
        "</div>"
       ],
       "metadata": {},
       "output_type": "pyout",
       "prompt_number": 13,
       "text": [
        "                              pv                       start  \\\n",
        "0   SR:C21-AM{RadMon:ID}Stat-Sts  2015-01-05 02:01:09.970000   \n",
        "1   SR:C21-AM{RadMon:ID}Stat-Sts  2015-01-12 02:01:17.082999   \n",
        "2   SR:C21-AM{RadMon:ID}Stat-Sts  2015-01-16 11:21:01.592999   \n",
        "3   SR:C21-AM{RadMon:ID}Stat-Sts  2015-01-19 02:01:16.181999   \n",
        "4   SR:C21-AM{RadMon:ID}Stat-Sts  2015-01-26 11:43:47.964999   \n",
        "5   SR:C21-AM{RadMon:ID}Stat-Sts  2015-02-02 02:02:03.349999   \n",
        "6   SR:C21-AM{RadMon:ID}Stat-Sts  2015-02-09 02:01:40.394000   \n",
        "7   SR:C21-AM{RadMon:ID}Stat-Sts  2015-02-16 02:01:21.414000   \n",
        "8   SR:C21-AM{RadMon:ID}Stat-Sts  2015-02-23 02:01:43.446000   \n",
        "9   SR:C21-AM{RadMon:ID}Stat-Sts  2015-03-02 02:01:51.457000   \n",
        "10  SR:C21-AM{RadMon:ID}Stat-Sts  2015-03-09 02:02:07.670000   \n",
        "\n",
        "                           end                                file  \n",
        "0   2015-01-12 02:00:29.444999  /DATA/RadMon/2015/./01_05/20150105  \n",
        "1   2015-01-16 11:18:48.135999  /DATA/RadMon/2015/./01_12/20150112  \n",
        "2   2015-01-19 02:00:28.819999  /DATA/RadMon/2015/./01_16/20150116  \n",
        "3   2015-01-26 11:41:32.244999  /DATA/RadMon/2015/./01_19/20150119  \n",
        "4   2015-02-02 02:00:34.492000  /DATA/RadMon/2015/./01_26/20150126  \n",
        "5   2015-02-09 02:00:25.239000  /DATA/RadMon/2015/./02_02/20150202  \n",
        "6   2015-02-16 02:00:09.986000  /DATA/RadMon/2015/./02_09/20150209  \n",
        "7   2015-02-23 02:00:12.163000  /DATA/RadMon/2015/./02_16/20150216  \n",
        "8   2015-03-02 02:00:06.250999  /DATA/RadMon/2015/./02_23/20150223  \n",
        "9   2015-03-09 02:00:20.138999  /DATA/RadMon/2015/./03_02/20150302  \n",
        "10  2015-03-11 14:58:21.051000  /DATA/RadMon/2015/./03_09/20150309  "
       ]
      }
     ],
     "prompt_number": 13
    },
    {
     "cell_type": "markdown",
     "metadata": {},
     "source": [
      "Now we can print pv's entries associated with datablocks"
     ]
    },
    {
     "cell_type": "code",
     "collapsed": false,
     "input": [
      "for i in range(size):\n",
      "    pv = pvs[str(i)];\n",
      "    print\n",
      "    print pv['pv'], pv['file'];\n",
      "    chunks = pv['entries'];\n",
      "    for j in range(chunks['size']):\n",
      "        chunk = chunks[str(j)];\n",
      "        print j, chunk['offset'], chunk['start_secs'], chunk['start_nanos'], chunk['end_secs'], chunk['end_nanos']\n"
     ],
     "language": "python",
     "metadata": {},
     "outputs": [
      {
       "output_type": "stream",
       "stream": "stdout",
       "text": [
        "\n",
        "SR:C21-AM{RadMon:ID}Stat-Sts /DATA/RadMon/2015/./01_05/20150105\n",
        "0 1301224 1420441269 970320424 1420721803 476330178\n",
        "1 166283707 1420736209 799515021 1421046029 445890003\n",
        "\n",
        "SR:C21-AM{RadMon:ID}Stat-Sts /DATA/RadMon/2015/./01_12/20150112\n",
        "0 1301224 1421046077 83801461 1421413402 658255162\n",
        "1 207066385 1421425128 136517232 1421425128 136527201\n",
        "\n",
        "SR:C21-AM{RadMon:ID}Stat-Sts /DATA/RadMon/2015/./01_16/20150116\n",
        "0 1301224 1421425261 593662947 1421650828 820514134\n",
        "\n",
        "SR:C21-AM{RadMon:ID}Stat-Sts /DATA/RadMon/2015/./01_19/20150119\n",
        "0 1301224 1421650876 182989850 1421989735 281927078\n",
        "1 195473427 1422004141 600769937 1422290492 245221603\n",
        "\n",
        "SR:C21-AM{RadMon:ID}Stat-Sts /DATA/RadMon/2015/./01_26/20150126\n",
        "0 1301224 1422290627 965568768 1422710151 55616253\n",
        "1 238415901 1422724557 366744989 1422860434 492004161\n",
        "\n",
        "SR:C21-AM{RadMon:ID}Stat-Sts /DATA/RadMon/2015/./02_02/20150202\n",
        "0 1301224 1422860523 350954556 1423286483 650774833\n",
        "1 240419963 1423300889 964668884 1423465225 239789307\n",
        "\n",
        "SR:C21-AM{RadMon:ID}Stat-Sts /DATA/RadMon/2015/./02_09/20150209\n",
        "0 1301224 1423465300 394629878 1423848407 930251821\n",
        "1 222586469 1423862814 239004361 1424070009 986210226\n",
        "\n",
        "SR:C21-AM{RadMon:ID}Stat-Sts /DATA/RadMon/2015/./02_16/20150216\n",
        "0 1301224 1424070081 414195919 1424511190 375204869\n",
        "1 252634640 1424525596 689230218 1424674812 163968106\n",
        "\n",
        "SR:C21-AM{RadMon:ID}Stat-Sts /DATA/RadMon/2015/./02_23/20150223\n",
        "0 1301224 1424674903 446762436 1425101931 247746530\n",
        "1 243962292 1425116337 562456546 1425279606 251089370\n",
        "\n",
        "SR:C21-AM{RadMon:ID}Stat-Sts /DATA/RadMon/2015/./03_02/20150302\n",
        "0 1301224 1425279711 457749105 1425707080 434411967\n",
        "1 249644875 1425721486 744250863 1425880820 139206874\n",
        "\n",
        "SR:C21-AM{RadMon:ID}Stat-Sts /DATA/RadMon/2015/./03_09/20150309\n",
        "0 1301224 1425880927 670150222 1426100301 51447350\n"
       ]
      }
     ],
     "prompt_number": 22
    },
    {
     "cell_type": "code",
     "collapsed": false,
     "input": [
      "session.close();"
     ],
     "language": "python",
     "metadata": {},
     "outputs": [],
     "prompt_number": 16
    },
    {
     "cell_type": "code",
     "collapsed": false,
     "input": [],
     "language": "python",
     "metadata": {},
     "outputs": []
    }
   ],
   "metadata": {}
  }
 ]
}