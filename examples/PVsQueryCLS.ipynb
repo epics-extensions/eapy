{
 "metadata": {
  "name": "",
  "signature": "sha256:2d011c6cabe98f3f528142acca1e55764c41317575fc2e3939a65a47bb894e3c"
 },
 "nbformat": 3,
 "nbformat_minor": 0,
 "worksheets": [
  {
   "cells": [
    {
     "cell_type": "heading",
     "level": 1,
     "metadata": {},
     "source": [
      "1.3 Query of the PVs Collection"
     ]
    },
    {
     "cell_type": "markdown",
     "metadata": {},
     "source": [
      "This example illustartes the V4 Channel Archiver interface for getting the information about pvs associated with the selected archive, such as\n",
      "* name: pv name\n",
      "* start: timestamp of the first record [secs]\n",
      "* end: timestamp of the last record [secs]\n",
      "\n",
      "This data structure is designed after the original XML-RPC protocol\n",
      "(see, for example, 4.4.3 archiver.names, Channel Archiver Manual, 2006)"
     ]
    },
    {
     "cell_type": "markdown",
     "metadata": {},
     "source": [
      "First, we import the necessary modules from the python standard library, numpy, pandas, and eapy."
     ]
    },
    {
     "cell_type": "code",
     "collapsed": false,
     "input": [
      "#import the standard modules\n",
      "import sys\n",
      "import pdb\n",
      "import time\n",
      "from datetime import timedelta, datetime, tzinfo\n",
      "\n",
      "#import numpy, pandas\n",
      "import numpy as np\n",
      "import pandas as pd\n",
      "\n",
      "#import the eapy module\n",
      "# sys.path.append('/opt/eapy')\n",
      "import eapy"
     ],
     "language": "python",
     "metadata": {},
     "outputs": [],
     "prompt_number": 16
    },
    {
     "cell_type": "markdown",
     "metadata": {},
     "source": [
      "and define parameters of the EPICS V4 RPC service, such as a channel name and timeout."
     ]
    },
    {
     "cell_type": "code",
     "collapsed": false,
     "input": [
      "# chName = \"ea4.rpc:classic\"; # service based on the original index files\n",
      "chName = \"ea4.rpc:mongo\"; # service based on MongoDB\n",
      "timeout = 20.0;"
     ],
     "language": "python",
     "metadata": {},
     "outputs": [],
     "prompt_number": 17
    },
    {
     "cell_type": "markdown",
     "metadata": {},
     "source": [
      "Then, we need to start a session for connecting it with the middle layer service and creating a session-specific context."
     ]
    },
    {
     "cell_type": "code",
     "collapsed": false,
     "input": [
      "session = eapy.Session.createSession();\n",
      "session.open(chName, timeout);"
     ],
     "language": "python",
     "metadata": {},
     "outputs": [],
     "prompt_number": 18
    },
    {
     "cell_type": "markdown",
     "metadata": {},
     "source": [
      "In the EPICS Archiver, data are partitioned into multiple subarchives associated \n",
      "with corresponding control subsystems. In this example, we use records of EPICS \n",
      "process variables (pvs) acquired from the RadMon (radiation monitor) subsystem.. "
     ]
    },
    {
     "cell_type": "code",
     "collapsed": false,
     "input": [
      "pvsProxy = session.createProxy(\"RadMon_2015\");"
     ],
     "language": "python",
     "metadata": {},
     "outputs": [],
     "prompt_number": 19
    },
    {
     "cell_type": "markdown",
     "metadata": {},
     "source": [
      "According to the Spark-oriented approach, we need to specify a query and apply the \n",
      "the collect action. (Note: The original archiver service does not support regular expressions\n",
      "with '/', '{', '}' and ignores the $project operator.)"
     ]
    },
    {
     "cell_type": "code",
     "collapsed": false,
     "input": [
      "pvsFilter = pvsProxy.filter([{\"$match\" : {\"pv\" : {\"$regex\" : \"SR:C01-AM.*RadMon:ID.*Lvl:3-I\"}}},\n",
      "# pvsFilter = pvsProxy.filter([{\"$match\" : {\"pv\" : {\"$regex\" : \".*\"}}},\n",
      "                             {\"$project\" : {\"pv\" : 1, \"start\" : 1, \"end\" : 1}}]);\n",
      "pvsCollect   = pvsFilter.collect(timeout);"
     ],
     "language": "python",
     "metadata": {},
     "outputs": [],
     "prompt_number": 21
    },
    {
     "cell_type": "markdown",
     "metadata": {},
     "source": [
      "The collect method returns a structure including a query status and a collection of documents. First, let's check the query status (int type, string message, string callTree)."
     ]
    },
    {
     "cell_type": "code",
     "collapsed": false,
     "input": [
      "print pvsCollect['status']['type']\n",
      "print pvsCollect['status']['message']"
     ],
     "language": "python",
     "metadata": {},
     "outputs": [
      {
       "output_type": "stream",
       "stream": "stdout",
       "text": [
        "0\n",
        "\n"
       ]
      }
     ],
     "prompt_number": 22
    },
    {
     "cell_type": "markdown",
     "metadata": {},
     "source": [
      "There are four types of query statuses: 0 - OK, 1 - Warning, 2 - Error, 3 - Fatal. If the query is OK, we can extract an array of documents. "
     ]
    },
    {
     "cell_type": "code",
     "collapsed": false,
     "input": [
      "pvs = pvsCollect['docs']"
     ],
     "language": "python",
     "metadata": {},
     "outputs": [],
     "prompt_number": 23
    },
    {
     "cell_type": "markdown",
     "metadata": {},
     "source": [
      "According to the MongoDB-oriented model, any collections are heterogeneous. As a result, it is represented by the dynamic structure with size and index fields, like 0, 1, etc."
     ]
    },
    {
     "cell_type": "code",
     "collapsed": false,
     "input": [
      "size = pvs['size'];\n",
      "pvsNP = np.zeros((size,),dtype=[('pv', 'a50'),('start', 'a50'),('end', 'a50')])\n",
      "for i in range(size):\n",
      "    pv = pvs[str(i)]; \n",
      "    pvsNP[i] = (pv['pv'], pv.datetime('start'), pv.datetime('end'))\n",
      "    \n",
      "pd.options.display.max_rows = size  \n",
      "pvsDF = pd.DataFrame(pvsNP);\n",
      "pvsDF"
     ],
     "language": "python",
     "metadata": {},
     "outputs": [
      {
       "html": [
        "<div style=\"max-height:1000px;max-width:1500px;overflow:auto;\">\n",
        "<table border=\"1\" class=\"dataframe\">\n",
        "  <thead>\n",
        "    <tr style=\"text-align: right;\">\n",
        "      <th></th>\n",
        "      <th>pv</th>\n",
        "      <th>start</th>\n",
        "      <th>end</th>\n",
        "    </tr>\n",
        "  </thead>\n",
        "  <tbody>\n",
        "    <tr>\n",
        "      <th>0 </th>\n",
        "      <td> SR:C01-AM{RadMon:ID}Lvl:3-I</td>\n",
        "      <td> 2015-01-05 02:01:09.308000</td>\n",
        "      <td> 2015-01-12 02:00:29.424999</td>\n",
        "    </tr>\n",
        "    <tr>\n",
        "      <th>1 </th>\n",
        "      <td> SR:C01-AM{RadMon:ID}Lvl:3-I</td>\n",
        "      <td> 2015-01-12 02:01:17.418999</td>\n",
        "      <td> 2015-01-16 11:18:48.119999</td>\n",
        "    </tr>\n",
        "    <tr>\n",
        "      <th>2 </th>\n",
        "      <td> SR:C01-AM{RadMon:ID}Lvl:3-I</td>\n",
        "      <td> 2015-01-16 11:21:01.562999</td>\n",
        "      <td> 2015-01-19 02:00:28.803999</td>\n",
        "    </tr>\n",
        "    <tr>\n",
        "      <th>3 </th>\n",
        "      <td> SR:C01-AM{RadMon:ID}Lvl:3-I</td>\n",
        "      <td> 2015-01-19 02:01:15.529999</td>\n",
        "      <td> 2015-01-26 11:41:32.229000</td>\n",
        "    </tr>\n",
        "    <tr>\n",
        "      <th>4 </th>\n",
        "      <td> SR:C01-AM{RadMon:ID}Lvl:3-I</td>\n",
        "      <td> 2015-01-26 11:43:47.513999</td>\n",
        "      <td> 2015-02-02 02:00:34.473000</td>\n",
        "    </tr>\n",
        "    <tr>\n",
        "      <th>5 </th>\n",
        "      <td> SR:C01-AM{RadMon:ID}Lvl:3-I</td>\n",
        "      <td> 2015-02-02 02:02:02.756999</td>\n",
        "      <td> 2015-02-09 02:00:25.226999</td>\n",
        "    </tr>\n",
        "    <tr>\n",
        "      <th>6 </th>\n",
        "      <td> SR:C01-AM{RadMon:ID}Lvl:3-I</td>\n",
        "      <td> 2015-02-09 02:01:39.829999</td>\n",
        "      <td> 2015-02-16 02:00:09.963000</td>\n",
        "    </tr>\n",
        "    <tr>\n",
        "      <th>7 </th>\n",
        "      <td> SR:C01-AM{RadMon:ID}Lvl:3-I</td>\n",
        "      <td> 2015-02-16 02:01:20.895999</td>\n",
        "      <td> 2015-02-23 02:00:12.142999</td>\n",
        "    </tr>\n",
        "    <tr>\n",
        "      <th>8 </th>\n",
        "      <td> SR:C01-AM{RadMon:ID}Lvl:3-I</td>\n",
        "      <td> 2015-02-23 02:01:42.963000</td>\n",
        "      <td> 2015-03-02 02:00:06.236000</td>\n",
        "    </tr>\n",
        "    <tr>\n",
        "      <th>9 </th>\n",
        "      <td> SR:C01-AM{RadMon:ID}Lvl:3-I</td>\n",
        "      <td> 2015-03-02 02:01:52.013000</td>\n",
        "      <td> 2015-03-09 02:00:20.117000</td>\n",
        "    </tr>\n",
        "    <tr>\n",
        "      <th>10</th>\n",
        "      <td> SR:C01-AM{RadMon:ID}Lvl:3-I</td>\n",
        "      <td> 2015-03-09 02:02:07.266999</td>\n",
        "      <td> 2015-03-11 14:58:21.040999</td>\n",
        "    </tr>\n",
        "  </tbody>\n",
        "</table>\n",
        "</div>"
       ],
       "metadata": {},
       "output_type": "pyout",
       "prompt_number": 24,
       "text": [
        "                             pv                       start  \\\n",
        "0   SR:C01-AM{RadMon:ID}Lvl:3-I  2015-01-05 02:01:09.308000   \n",
        "1   SR:C01-AM{RadMon:ID}Lvl:3-I  2015-01-12 02:01:17.418999   \n",
        "2   SR:C01-AM{RadMon:ID}Lvl:3-I  2015-01-16 11:21:01.562999   \n",
        "3   SR:C01-AM{RadMon:ID}Lvl:3-I  2015-01-19 02:01:15.529999   \n",
        "4   SR:C01-AM{RadMon:ID}Lvl:3-I  2015-01-26 11:43:47.513999   \n",
        "5   SR:C01-AM{RadMon:ID}Lvl:3-I  2015-02-02 02:02:02.756999   \n",
        "6   SR:C01-AM{RadMon:ID}Lvl:3-I  2015-02-09 02:01:39.829999   \n",
        "7   SR:C01-AM{RadMon:ID}Lvl:3-I  2015-02-16 02:01:20.895999   \n",
        "8   SR:C01-AM{RadMon:ID}Lvl:3-I  2015-02-23 02:01:42.963000   \n",
        "9   SR:C01-AM{RadMon:ID}Lvl:3-I  2015-03-02 02:01:52.013000   \n",
        "10  SR:C01-AM{RadMon:ID}Lvl:3-I  2015-03-09 02:02:07.266999   \n",
        "\n",
        "                           end  \n",
        "0   2015-01-12 02:00:29.424999  \n",
        "1   2015-01-16 11:18:48.119999  \n",
        "2   2015-01-19 02:00:28.803999  \n",
        "3   2015-01-26 11:41:32.229000  \n",
        "4   2015-02-02 02:00:34.473000  \n",
        "5   2015-02-09 02:00:25.226999  \n",
        "6   2015-02-16 02:00:09.963000  \n",
        "7   2015-02-23 02:00:12.142999  \n",
        "8   2015-03-02 02:00:06.236000  \n",
        "9   2015-03-09 02:00:20.117000  \n",
        "10  2015-03-11 14:58:21.040999  "
       ]
      }
     ],
     "prompt_number": 24
    },
    {
     "cell_type": "code",
     "collapsed": false,
     "input": [
      "session.close();"
     ],
     "language": "python",
     "metadata": {},
     "outputs": [],
     "prompt_number": 9
    },
    {
     "cell_type": "code",
     "collapsed": false,
     "input": [],
     "language": "python",
     "metadata": {},
     "outputs": []
    }
   ],
   "metadata": {}
  }
 ]
}