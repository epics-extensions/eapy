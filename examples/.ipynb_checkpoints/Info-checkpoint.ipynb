{
 "metadata": {
  "name": "",
  "signature": "sha256:e2c54c693d4af271c81e8dbdc490b68aa1a3c3019b4199c03f288bee9e213311"
 },
 "nbformat": 3,
 "nbformat_minor": 0,
 "worksheets": [
  {
   "cells": [
    {
     "cell_type": "heading",
     "level": 1,
     "metadata": {},
     "source": [
      "1.1 Info Catalog"
     ]
    },
    {
     "cell_type": "markdown",
     "metadata": {},
     "source": [
      "This example illustartes the V4 Channel Archiver interface \n",
      "for getting the general information, such as\n",
      "* desc: summary \n",
      "* stat: array of strings with a description of the \"status\" part of the pv values. \n",
      "* sevr: array of structures with a description of the \"severity\" part of the pv values\n",
      "\n",
      "This data structure is designed after the original XML-RPC protocol\n",
      "(see, for example, 4.4.1 archiver.info, Channel Archiver Manual, 2006)"
     ]
    },
    {
     "cell_type": "markdown",
     "metadata": {},
     "source": [
      "First, we import the necessary modules from the python standard library, numpy, pandas, and eapy."
     ]
    },
    {
     "cell_type": "code",
     "collapsed": false,
     "input": [
      "#import the standard modules\n",
      "import sys\n",
      "import pdb\n",
      "import time\n",
      "from datetime import timedelta, datetime, tzinfo\n",
      "\n",
      "#import numpy, pandas\n",
      "import numpy as np\n",
      "import pandas as pd\n",
      "\n",
      "#import the eapy module\n",
      "sys.path.append('/opt/eapy')\n",
      "import eapy"
     ],
     "language": "python",
     "metadata": {},
     "outputs": [],
     "prompt_number": 23
    },
    {
     "cell_type": "markdown",
     "metadata": {},
     "source": [
      "and define parameters of the EPICS V4 RPC service, such as a channel name and timeout."
     ]
    },
    {
     "cell_type": "code",
     "collapsed": false,
     "input": [
      "chName = \"ea4.rpc:classic\";\n",
      "timeout = 3.0;"
     ],
     "language": "python",
     "metadata": {},
     "outputs": [],
     "prompt_number": 3
    },
    {
     "cell_type": "markdown",
     "metadata": {},
     "source": [
      "Then, we need to start a session for connecting it with the middle layer service and creating a session-specific context."
     ]
    },
    {
     "cell_type": "code",
     "collapsed": false,
     "input": [
      "session = eapy.Session.createSession();\n",
      "session.open(chName, timeout);"
     ],
     "language": "python",
     "metadata": {},
     "outputs": [],
     "prompt_number": 4
    },
    {
     "cell_type": "markdown",
     "metadata": {},
     "source": [
      "According to the MongoDB-oriented model, the corresponding information is located in the 'info' collection. "
     ]
    },
    {
     "cell_type": "code",
     "collapsed": false,
     "input": [
      "infoProxy = session.createProxy(\"info\");\n",
      "infoDoc = infoProxy.collect(timeout);"
     ],
     "language": "python",
     "metadata": {},
     "outputs": [],
     "prompt_number": 5
    },
    {
     "cell_type": "markdown",
     "metadata": {},
     "source": [
      "First, let's print a summary."
     ]
    },
    {
     "cell_type": "code",
     "collapsed": false,
     "input": [
      "print infoDoc['desc'];"
     ],
     "language": "python",
     "metadata": {},
     "outputs": [
      {
       "output_type": "stream",
       "stream": "stdout",
       "text": [
        "Channel Archiver Data Server V1,\n",
        "for EPICS 3.14.12.4,\n",
        "built Mar 20 2015, 10:44:55\n",
        "from sources for version '4.1.0.0' \n",
        "Config: '/DATA/serverconfig.xml'\n",
        "\n"
       ]
      }
     ],
     "prompt_number": 15
    },
    {
     "cell_type": "markdown",
     "metadata": {},
     "source": [
      "Now we can print an array of the $status$ strings. "
     ]
    },
    {
     "cell_type": "code",
     "collapsed": false,
     "input": [
      "stats = infoDoc.strings('stat');\n",
      "for stat in stats:\n",
      "    print stat,"
     ],
     "language": "python",
     "metadata": {},
     "outputs": [
      {
       "output_type": "stream",
       "stream": "stdout",
       "text": [
        "NO_ALARM READ WRITE HIHI HIGH LOLO LOW STATE COS COMM TIMEOUT HWLIMIT CALC SCAN LINK SOFT BAD_SUB UDF DISABLE SIMM READ_ACCESS WRITE_ACCESS\n"
       ]
      }
     ],
     "prompt_number": 14
    },
    {
     "cell_type": "markdown",
     "metadata": {},
     "source": [
      "Finally, we will print a table with the $severity$ records."
     ]
    },
    {
     "cell_type": "code",
     "collapsed": false,
     "input": [
      "sevrs = infoDoc.docs('sevr');\n",
      "sevrsNP = np.zeros((len(sevrs),),dtype=[('num', 'i4'),('sevr', 'a20'),('has_value', 'a10'),('txt_stat', 'a10')])\n",
      "for i in range(len(sevrs)):\n",
      "    sevr = sevrs[i];\n",
      "    sevrsNP[i] = (sevr['num'], sevr['sevr'], sevr['has_value'], sevr['txt_stat'])\n",
      "sevrsDF = pd.DataFrame(sevrsNP);\n",
      "sevrsDF"
     ],
     "language": "python",
     "metadata": {},
     "outputs": [
      {
       "html": [
        "<div style=\"max-height:1000px;max-width:1500px;overflow:auto;\">\n",
        "<table border=\"1\" class=\"dataframe\">\n",
        "  <thead>\n",
        "    <tr style=\"text-align: right;\">\n",
        "      <th></th>\n",
        "      <th>num</th>\n",
        "      <th>sevr</th>\n",
        "      <th>has_value</th>\n",
        "      <th>txt_stat</th>\n",
        "    </tr>\n",
        "  </thead>\n",
        "  <tbody>\n",
        "    <tr>\n",
        "      <th>0</th>\n",
        "      <td>    0</td>\n",
        "      <td>         NO_ALARM</td>\n",
        "      <td> 1</td>\n",
        "      <td> 1</td>\n",
        "    </tr>\n",
        "    <tr>\n",
        "      <th>1</th>\n",
        "      <td>    1</td>\n",
        "      <td>            MINOR</td>\n",
        "      <td> 1</td>\n",
        "      <td> 1</td>\n",
        "    </tr>\n",
        "    <tr>\n",
        "      <th>2</th>\n",
        "      <td>    2</td>\n",
        "      <td>            MAJOR</td>\n",
        "      <td> 1</td>\n",
        "      <td> 1</td>\n",
        "    </tr>\n",
        "    <tr>\n",
        "      <th>3</th>\n",
        "      <td>    3</td>\n",
        "      <td>          INVALID</td>\n",
        "      <td> 1</td>\n",
        "      <td> 1</td>\n",
        "    </tr>\n",
        "    <tr>\n",
        "      <th>4</th>\n",
        "      <td> 3968</td>\n",
        "      <td>       Est_Repeat</td>\n",
        "      <td> 1</td>\n",
        "      <td> 0</td>\n",
        "    </tr>\n",
        "    <tr>\n",
        "      <th>5</th>\n",
        "      <td> 3856</td>\n",
        "      <td>           Repeat</td>\n",
        "      <td> 1</td>\n",
        "      <td> 0</td>\n",
        "    </tr>\n",
        "    <tr>\n",
        "      <th>6</th>\n",
        "      <td> 3904</td>\n",
        "      <td>     Disconnected</td>\n",
        "      <td> 0</td>\n",
        "      <td> 1</td>\n",
        "    </tr>\n",
        "    <tr>\n",
        "      <th>7</th>\n",
        "      <td> 3872</td>\n",
        "      <td>      Archive_Off</td>\n",
        "      <td> 0</td>\n",
        "      <td> 1</td>\n",
        "    </tr>\n",
        "    <tr>\n",
        "      <th>8</th>\n",
        "      <td> 3848</td>\n",
        "      <td> Archive_Disabled</td>\n",
        "      <td> 0</td>\n",
        "      <td> 1</td>\n",
        "    </tr>\n",
        "  </tbody>\n",
        "</table>\n",
        "</div>"
       ],
       "metadata": {},
       "output_type": "pyout",
       "prompt_number": 22,
       "text": [
        "    num              sevr has_value txt_stat\n",
        "0     0          NO_ALARM         1        1\n",
        "1     1             MINOR         1        1\n",
        "2     2             MAJOR         1        1\n",
        "3     3           INVALID         1        1\n",
        "4  3968        Est_Repeat         1        0\n",
        "5  3856            Repeat         1        0\n",
        "6  3904      Disconnected         0        1\n",
        "7  3872       Archive_Off         0        1\n",
        "8  3848  Archive_Disabled         0        1"
       ]
      }
     ],
     "prompt_number": 22
    },
    {
     "cell_type": "code",
     "collapsed": false,
     "input": [
      "session.close();"
     ],
     "language": "python",
     "metadata": {},
     "outputs": [],
     "prompt_number": 24
    }
   ],
   "metadata": {}
  }
 ]
}