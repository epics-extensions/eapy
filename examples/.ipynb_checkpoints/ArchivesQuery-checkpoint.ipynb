{
 "metadata": {
  "name": "",
  "signature": "sha256:b12ae1bb304db8237e492c7e8cb33b63b4cae0cbba490eb9dddb5cf28fdb765a"
 },
 "nbformat": 3,
 "nbformat_minor": 0,
 "worksheets": [
  {
   "cells": [
    {
     "cell_type": "heading",
     "level": 1,
     "metadata": {},
     "source": [
      "1.2 Query of the Archives Collection"
     ]
    },
    {
     "cell_type": "markdown",
     "metadata": {},
     "source": [
      "This example illustartes the V4 Channel Archiver interface \n",
      "for getting the information about included archives, such as\n",
      "* key: numerical key\n",
      "* name: name\n",
      "* path: path to the index file\n",
      "\n",
      "This data structure is designed after the original XML-RPC protocol\n",
      "(see, for example, 4.4.2 archiver.archives, Channel Archiver Manual, 2006)"
     ]
    },
    {
     "cell_type": "markdown",
     "metadata": {},
     "source": [
      "First, we import the necessary modules from the python standard library, numpy, pandas, and eapy."
     ]
    },
    {
     "cell_type": "code",
     "collapsed": false,
     "input": [
      "#import the standard modules\n",
      "import sys\n",
      "import pdb\n",
      "import time\n",
      "from datetime import timedelta, datetime, tzinfo\n",
      "\n",
      "#import numpy, pandas\n",
      "import numpy as np\n",
      "import pandas as pd\n",
      "\n",
      "#import the eapy module\n",
      "sys.path.append('/opt/eapy')\n",
      "import eapy"
     ],
     "language": "python",
     "metadata": {},
     "outputs": [],
     "prompt_number": 1
    },
    {
     "cell_type": "markdown",
     "metadata": {},
     "source": [
      "and define parameters of the EPICS V4 RPC service, such as a channel name and timeout."
     ]
    },
    {
     "cell_type": "code",
     "collapsed": false,
     "input": [
      "# chName = \"ea4.rpc:classic\"; # service based on the original index files\n",
      "chName = \"ea4.rpc:mongo\"; # service based on MongoDB\n",
      "timeout = 3.0;"
     ],
     "language": "python",
     "metadata": {},
     "outputs": [],
     "prompt_number": 2
    },
    {
     "cell_type": "markdown",
     "metadata": {},
     "source": [
      "Then, we need to start a session for connecting it with the middle layer service and creating a session-specific context."
     ]
    },
    {
     "cell_type": "code",
     "collapsed": false,
     "input": [
      "session = eapy.Session.createSession();\n",
      "session.open(chName, timeout);"
     ],
     "language": "python",
     "metadata": {},
     "outputs": [],
     "prompt_number": 3
    },
    {
     "cell_type": "markdown",
     "metadata": {},
     "source": [
      "According to the MongoDB-oriented model, the corresponding information is located in the 'archives' collection. "
     ]
    },
    {
     "cell_type": "code",
     "collapsed": false,
     "input": [
      "archivesProxy = session.createProxy(\"archives\");\n",
      "archivesCollect = archivesFilter.collect(timeout);"
     ],
     "language": "python",
     "metadata": {},
     "outputs": [],
     "prompt_number": 8
    },
    {
     "cell_type": "markdown",
     "metadata": {},
     "source": [
      "The collect method returns a structure including a query status and a collection of documents. First, let's check the query status (int type, string message, string callTree)."
     ]
    },
    {
     "cell_type": "code",
     "collapsed": false,
     "input": [
      "print archivesCollect['status']['type']"
     ],
     "language": "python",
     "metadata": {},
     "outputs": [
      {
       "output_type": "stream",
       "stream": "stdout",
       "text": [
        "0\n"
       ]
      }
     ],
     "prompt_number": 5
    },
    {
     "cell_type": "markdown",
     "metadata": {},
     "source": [
      "There are four types of query statuses: 0 - OK, 1 - Warning, 2 - Error, 3 - Fatal. If the query is OK, we can extract an array of documents. "
     ]
    },
    {
     "cell_type": "code",
     "collapsed": false,
     "input": [
      "archives = archivesCollect['docs']"
     ],
     "language": "python",
     "metadata": {},
     "outputs": [],
     "prompt_number": 6
    },
    {
     "cell_type": "markdown",
     "metadata": {},
     "source": [
      "According to the MongoDB-oriented model, any collections are heterogeneous. As a result, it is represented by the dynamic structure with size and index fields, like 0, 1, etc. "
     ]
    },
    {
     "cell_type": "code",
     "collapsed": false,
     "input": [
      "archivesNP = np.zeros((archives['size'],),dtype=[('key', 'i4'),('name', 'a50'), ('path', 'a70')])\n",
      "for i in range(archives['size']):\n",
      "    archive = archives[str(i)];\n",
      "    archivesNP[i] = (archive['key'], archive['name'], archive['path'])\n",
      "archivesDF = pd.DataFrame(archivesNP);\n",
      "archivesDF"
     ],
     "language": "python",
     "metadata": {},
     "outputs": [
      {
       "html": [
        "<div style=\"max-height:1000px;max-width:1500px;overflow:auto;\">\n",
        "<table border=\"1\" class=\"dataframe\">\n",
        "  <thead>\n",
        "    <tr style=\"text-align: right;\">\n",
        "      <th></th>\n",
        "      <th>key</th>\n",
        "      <th>name</th>\n",
        "      <th>path</th>\n",
        "    </tr>\n",
        "  </thead>\n",
        "  <tbody>\n",
        "  </tbody>\n",
        "</table>\n",
        "</div>"
       ],
       "metadata": {},
       "output_type": "pyout",
       "prompt_number": 9,
       "text": [
        "Empty DataFrame\n",
        "Columns: [key, name, path]\n",
        "Index: []"
       ]
      }
     ],
     "prompt_number": 9
    },
    {
     "cell_type": "code",
     "collapsed": false,
     "input": [
      "session.close();"
     ],
     "language": "python",
     "metadata": {},
     "outputs": [],
     "prompt_number": 8
    },
    {
     "cell_type": "code",
     "collapsed": false,
     "input": [],
     "language": "python",
     "metadata": {},
     "outputs": [],
     "prompt_number": 6
    },
    {
     "cell_type": "code",
     "collapsed": false,
     "input": [],
     "language": "python",
     "metadata": {},
     "outputs": []
    }
   ],
   "metadata": {}
  }
 ]
}